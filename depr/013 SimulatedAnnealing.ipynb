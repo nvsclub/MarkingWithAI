{
 "metadata": {
  "language_info": {
   "codemirror_mode": {
    "name": "ipython",
    "version": 3
   },
   "file_extension": ".py",
   "mimetype": "text/x-python",
   "name": "python",
   "nbconvert_exporter": "python",
   "pygments_lexer": "ipython3",
   "version": "3.9.4"
  },
  "orig_nbformat": 2,
  "kernelspec": {
   "name": "python394jvsc74a57bd08745603a5c48c4b8e170a840a83d1d2315b8a02a9eb5f018a5a30fe1dee571c6",
   "display_name": "Python 3.9.4 64-bit"
  },
  "metadata": {
   "interpreter": {
    "hash": "8745603a5c48c4b8e170a840a83d1d2315b8a02a9eb5f018a5a30fe1dee571c6"
   }
  }
 },
 "nbformat": 4,
 "nbformat_minor": 2,
 "cells": [
  {
   "cell_type": "code",
   "execution_count": 1,
   "metadata": {},
   "outputs": [],
   "source": [
    "import lib.draw as draw\n",
    "import lib.marking_evaluation as meval\n",
    "import matplotlib.pyplot as plt\n",
    "import numpy as np\n",
    "import copy\n",
    "from random import randint, random"
   ]
  },
  {
   "cell_type": "code",
   "execution_count": 2,
   "metadata": {},
   "outputs": [],
   "source": [
    "def create_adversary(opposing_team):\n",
    "    adversary = meval.Team()\n",
    "    adversary.initialize_heuristic(w1=1, w2=1, w3=1, w4=1, mad=5)\n",
    "    adversary.add_player(opposing_team[0][0], opposing_team[0][1], True)\n",
    "    for player in opposing_team[1:]:\n",
    "        adversary.add_player(player[0], player[1])\n",
    "    return adversary"
   ]
  },
  {
   "cell_type": "code",
   "execution_count": 3,
   "metadata": {},
   "outputs": [],
   "source": [
    "def create_team(team_coordinates):\n",
    "    team = meval.Team()\n",
    "    for player in team_coordinates:\n",
    "        team.add_player(player[0], player[1]) \n",
    "    return team"
   ]
  },
  {
   "cell_type": "code",
   "execution_count": 4,
   "metadata": {},
   "outputs": [],
   "source": [
    "def list_successors(current_proposal):\n",
    "    successors = []\n",
    "    for i in range(10):\n",
    "        for j in range(2):\n",
    "            for k in [-1, 1]:\n",
    "                changed_proposal = copy.deepcopy(current_proposal)\n",
    "                changed_proposal[i][j] += k\n",
    "                successors.append(changed_proposal)\n",
    "    return successors"
   ]
  },
  {
   "cell_type": "code",
   "execution_count": 5,
   "metadata": {},
   "outputs": [],
   "source": [
    "def find_best(adversary, successors):\n",
    "    best = successors[0]\n",
    "    best_heuristic = adversary.calculate_heuristic(create_team(best))\n",
    "    for successor in successors[1:]:\n",
    "        successor_heuristic = adversary.calculate_heuristic(create_team(successor))\n",
    "        if successor_heuristic > best_heuristic:\n",
    "            best = successor\n",
    "            best_heuristic = successor_heuristic\n",
    "    return best, best_heuristic"
   ]
  },
  {
   "cell_type": "code",
   "execution_count": 6,
   "metadata": {},
   "outputs": [],
   "source": [
    "def generate_random_start():\n",
    "    # 16 to avoid starting inside the box\n",
    "    return [[randint(16, 100), randint(0, 100)] for _ in range(10)]"
   ]
  },
  {
   "cell_type": "code",
   "execution_count": 7,
   "metadata": {},
   "outputs": [],
   "source": [
    "def plot_proposed_team(adversary, current_proposal):\n",
    "    proposed_team = create_team(current_proposal)\n",
    "    adversary.calculate_heuristic(proposed_team)\n",
    "    adversary.plot_result(proposed_team)"
   ]
  },
  {
   "cell_type": "code",
   "execution_count": 8,
   "metadata": {},
   "outputs": [
    {
     "output_type": "stream",
     "name": "stdout",
     "text": [
      "Iteration 1, HeuristicVal 1.8574828134864199, Temperature 0.98, Prob.Acceptance 1.6335930915716745\n",
      "Iteration 2, HeuristicVal 2.0100414150443786, Temperature 0.9603999999999999, Prob.Acceptance 1.1468854861637818\n",
      "Iteration 3, HeuristicVal 2.0192674562769133, Temperature 0.9411919999999999, Prob.Acceptance 0.7361263354007582\n",
      "Iteration 4, HeuristicVal 2.2207296748141205, Temperature 0.9223681599999999, Prob.Acceptance 1.2272251852324818\n",
      "Iteration 5, HeuristicVal 2.2338784596203523, Temperature 0.9039207967999998, Prob.Acceptance 0.3127991904373117\n",
      "Iteration 6, HeuristicVal 2.242361358271314, Temperature 0.8858423808639998, Prob.Acceptance 0.18645100696650338\n",
      "Iteration 7, HeuristicVal 2.250971827129426, Temperature 0.8681255332467198, Prob.Acceptance 0.41409808820313937\n",
      "Iteration 8, HeuristicVal 2.2588822670935644, Temperature 0.8507630225817854, Prob.Acceptance 0.2652069394599015\n",
      "Iteration 9, HeuristicVal 2.2663750483629133, Temperature 0.8337477621301497, Prob.Acceptance 0.5423689399625409\n",
      "Iteration 10, HeuristicVal 2.2752169211690587, Temperature 0.8170728068875467, Prob.Acceptance 0.545033496415668\n",
      "Iteration 11, HeuristicVal 2.320886751762674, Temperature 0.8007313507497957, Prob.Acceptance 0.5226316528682944\n",
      "Iteration 12, HeuristicVal 2.3301606657721066, Temperature 0.7847167237347998, Prob.Acceptance 0.22808484694308495\n",
      "Iteration 13, HeuristicVal 2.3392017964768423, Temperature 0.7690223892601038, Prob.Acceptance 0.22808484694308495\n",
      "Iteration 14, HeuristicVal 2.2474836365945388, Temperature 0.7536419414749017, Prob.Acceptance 0.8761903583843866\n",
      "Iteration 15, HeuristicVal 2.2662567789795705, Temperature 0.7385691026454037, Prob.Acceptance 0.7555295674419263\n",
      "Iteration 16, HeuristicVal 1.981792288807974, Temperature 0.7237977205924956, Prob.Acceptance 0.6651435633534069\n",
      "Iteration 17, HeuristicVal 2.0903815034315083, Temperature 0.7093217661806457, Prob.Acceptance 0.36737080662404015\n",
      "Iteration 18, HeuristicVal 2.1027062301034234, Temperature 0.6951353308570327, Prob.Acceptance 0.36737080662404015\n",
      "Iteration 19, HeuristicVal 2.1970450049003256, Temperature 0.6812326242398921, Prob.Acceptance 0.06205563588066943\n",
      "Iteration 20, HeuristicVal 2.212031377539988, Temperature 0.6676079717550942, Prob.Acceptance 0.06205563588066943\n",
      "Iteration 21, HeuristicVal 1.443687141329728, Temperature 0.6542558123199923, Prob.Acceptance 0.310189496184333\n",
      "Iteration 22, HeuristicVal 1.6477121868094853, Temperature 0.6411706960735924, Prob.Acceptance 0.310189496184333\n",
      "Iteration 23, HeuristicVal 1.6642743233899386, Temperature 0.6283472821521205, Prob.Acceptance 0.310189496184333\n",
      "Iteration 24, HeuristicVal 1.3158036161648403, Temperature 0.6157803365090782, Prob.Acceptance 0.5596782284616588\n",
      "Iteration 25, HeuristicVal 1.3320305263355054, Temperature 0.6034647297788965, Prob.Acceptance 0.5281844059640848\n",
      "Iteration 26, HeuristicVal 1.3461573607117627, Temperature 0.5913954351833186, Prob.Acceptance 0.5281844059640848\n",
      "Iteration 27, HeuristicVal 0.8730619281522727, Temperature 0.5795675264796523, Prob.Acceptance 0.4344067028580649\n",
      "Iteration 28, HeuristicVal 2.62999075482675, Temperature 0.5679761759500592, Prob.Acceptance 17.22375663044085\n"
     ]
    }
   ],
   "source": [
    "opposing_team = [(5, 39), (9, 28), (10, 72), (23, 98), (26, 1), (20, 49), (32, 27), (32, 70), (48, 97), (48, 51), (48, 3)]\n",
    "adversary = create_adversary(opposing_team)\n",
    "current_proposal = generate_random_start()\n",
    "current_best_heuristic = adversary.calculate_heuristic(create_team(current_proposal))\n",
    "absolute_best_proposal = current_proposal\n",
    "absolute_best_heuristic = current_best_heuristic\n",
    "temperature = 1\n",
    "temperature_multiplier = 0.98\n",
    "probability_of_acceptance = 0\n",
    "c = 0\n",
    "while 1:\n",
    "    c += 1\n",
    "    successors = list_successors(current_proposal)\n",
    "    best, best_heuristic = find_best(adversary, successors)\n",
    "    if best_heuristic > current_best_heuristic:\n",
    "        current_proposal = best\n",
    "        current_best_heuristic = best_heuristic\n",
    "    if current_best_heuristic > absolute_best_heuristic:\n",
    "        absolute_best_proposal = best\n",
    "        absolute_best_heuristic = best_heuristic\n",
    "    if temperature < 0.001:\n",
    "        break\n",
    "    elif temperature > random():\n",
    "        random_proposal = generate_random_start()\n",
    "        random_proposal_heuristic = adversary.calculate_heuristic(create_team(random_proposal))\n",
    "        # sigmoid not good\n",
    "        probability_of_acceptance = 10 ** ((random_proposal_heuristic - current_best_heuristic)) * temperature\n",
    "        if probability_of_acceptance > random():\n",
    "            current_proposal = random_proposal\n",
    "            current_best_heuristic = random_proposal_heuristic\n",
    "\n",
    "    temperature *= temperature_multiplier\n",
    "\n",
    "    print(f'Iteration {c}, HeuristicVal {current_best_heuristic}, Temperature {temperature}, Prob.Acceptance {probability_of_acceptance}')\n",
    "\n",
    "plot_proposed_team(adversary, absolute_best_proposal)"
   ]
  }
 ]
}