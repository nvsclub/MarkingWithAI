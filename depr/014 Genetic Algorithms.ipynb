{
 "metadata": {
  "language_info": {
   "codemirror_mode": {
    "name": "ipython",
    "version": 3
   },
   "file_extension": ".py",
   "mimetype": "text/x-python",
   "name": "python",
   "nbconvert_exporter": "python",
   "pygments_lexer": "ipython3",
   "version": "3.9.4"
  },
  "orig_nbformat": 2,
  "kernelspec": {
   "name": "python394jvsc74a57bd08745603a5c48c4b8e170a840a83d1d2315b8a02a9eb5f018a5a30fe1dee571c6",
   "display_name": "Python 3.9.4 64-bit"
  },
  "metadata": {
   "interpreter": {
    "hash": "8745603a5c48c4b8e170a840a83d1d2315b8a02a9eb5f018a5a30fe1dee571c6"
   }
  }
 },
 "nbformat": 4,
 "nbformat_minor": 2,
 "cells": [
  {
   "cell_type": "code",
   "execution_count": 1,
   "metadata": {},
   "outputs": [],
   "source": [
    "import lib.draw as draw\n",
    "import lib.marking_evaluation as meval\n",
    "import matplotlib.pyplot as plt\n",
    "import numpy as np\n",
    "import copy\n",
    "from random import randint, random"
   ]
  },
  {
   "cell_type": "code",
   "execution_count": 2,
   "metadata": {},
   "outputs": [],
   "source": [
    "population_size = 100\n",
    "limit_of_generations = 1000\n",
    "fitness_limit = 10\n",
    "no_stable_generations = 10\n",
    "\n",
    "elitist_rate = 0.1\n",
    "survival_rate = 0.7\n",
    "mutation_rate = 0.2"
   ]
  },
  {
   "cell_type": "code",
   "execution_count": 3,
   "metadata": {},
   "outputs": [],
   "source": [
    "def create_adversary(opposing_team):\n",
    "    adversary = meval.Team()\n",
    "    adversary.initialize_heuristic(w1=1, w2=1, w3=1, w4=1, mad=5)\n",
    "    adversary.add_player(opposing_team[0][0], opposing_team[0][1], True)\n",
    "    for player in opposing_team[1:]:\n",
    "        adversary.add_player(player[0], player[1])\n",
    "    return adversary"
   ]
  },
  {
   "cell_type": "code",
   "execution_count": 4,
   "metadata": {},
   "outputs": [],
   "source": [
    "def create_team(team_coordinates):\n",
    "    team = meval.Team()\n",
    "    for player in team_coordinates:\n",
    "        team.add_player(player[0], player[1]) \n",
    "    return team"
   ]
  },
  {
   "cell_type": "code",
   "execution_count": 5,
   "metadata": {},
   "outputs": [],
   "source": [
    "def generate_random_start():\n",
    "    # 16 to avoid starting inside the box\n",
    "    return [[randint(16, 100), randint(0, 100)] for _ in range(10)]"
   ]
  },
  {
   "cell_type": "code",
   "execution_count": 6,
   "metadata": {},
   "outputs": [],
   "source": [
    "def evaluate(population):\n",
    "    population_fitnesses = []\n",
    "    for individual in population:\n",
    "        population_fitnesses.append(adversary.calculate_heuristic(create_team(individual)))\n",
    "    return population_fitnesses"
   ]
  },
  {
   "cell_type": "code",
   "execution_count": 7,
   "metadata": {},
   "outputs": [],
   "source": [
    "def selection(population, population_fitnesses):\n",
    "    survival_guaranteed_above = np.quantile(population_fitnesses, 1 - elitist_rate)\n",
    "\n",
    "    unfit_individuals = []\n",
    "    i = 0\n",
    "    for individual, fitness in zip(population, population_fitnesses):\n",
    "        if fitness < survival_guaranteed_above:\n",
    "            if survival_rate < random():\n",
    "                unfit_individuals.append(i)\n",
    "        i+=1\n",
    "    for individual_id in reversed(unfit_individuals):\n",
    "        del population[individual_id]\n",
    "        del population_fitnesses[individual_id]\n",
    "    \n",
    "    return population, population_fitnesses"
   ]
  },
  {
   "cell_type": "code",
   "execution_count": 8,
   "metadata": {},
   "outputs": [],
   "source": [
    "def crossover(population, population_fitnesses):\n",
    "    while len(population) < population_size:\n",
    "        parent1 = randint(0, len(population) - 1)\n",
    "        parent2 = randint(0, len(population) - 1)\n",
    "\n",
    "        individual = copy.deepcopy(population[parent1])\n",
    "\n",
    "        crossover_players = [randint(0, 9) for i in range(randint(1, 8))]\n",
    "\n",
    "        for player in crossover_players:\n",
    "            individual[player] = population[parent2][player]\n",
    "\n",
    "        population.append(individual)\n",
    "\n",
    "    return population"
   ]
  },
  {
   "cell_type": "code",
   "execution_count": 9,
   "metadata": {},
   "outputs": [],
   "source": [
    "def mutation(population):\n",
    "    for individual in population:\n",
    "        mutated_players = [randint(0, 9) for i in range(randint(0, 9))]\n",
    "        for player in mutated_players:\n",
    "            if random() < mutation_rate:\n",
    "                individual[player] = [randint(0, 100), randint(0, 100)]\n",
    "\n",
    "    return population"
   ]
  },
  {
   "cell_type": "code",
   "execution_count": 10,
   "metadata": {},
   "outputs": [],
   "source": [
    "opposing_team = [(5, 39), (9, 28), (10, 72), (23, 98), (26, 1), (20, 49), (32, 27), (32, 70), (48, 97), (48, 51), (48, 3)]\n",
    "adversary = create_adversary(opposing_team)"
   ]
  },
  {
   "cell_type": "code",
   "execution_count": 11,
   "metadata": {},
   "outputs": [
    {
     "output_type": "stream",
     "name": "stdout",
     "text": [
      "0 - Pop fitness 2.4188253989707933, Max fitness 2.4188253989707933\n",
      "1 - Pop fitness 2.3169905338024304, Max fitness 2.4188253989707933\n",
      "2 - Pop fitness 2.2862025091720475, Max fitness 2.4188253989707933\n"
     ]
    }
   ],
   "source": [
    "population = [generate_random_start() for _ in range(population_size)]\r\n",
    "best_proposal = population[0]\r\n",
    "best_heuristic = -100\r\n",
    "\r\n",
    "for generation in range(limit_of_generations):\r\n",
    "    population_fitnesses = evaluate(population)\r\n",
    "    population, population_fitnesses = selection(population, population_fitnesses)\r\n",
    "    \r\n",
    "    best_generation_fitness = max(population_fitnesses)\r\n",
    "    if best_generation_fitness > best_heuristic:\r\n",
    "        best_heuristic = best_generation_fitness\r\n",
    "        best_proposal = population[population_fitnesses.index(best_generation_fitness)]\r\n",
    "\r\n",
    "    population = crossover(population, population_fitnesses)\r\n",
    "    population = mutation(population)\r\n",
    "\r\n",
    "    print(f'{generation} - Pop fitness {max(population_fitnesses)}, Max fitness {best_heuristic}')"
   ]
  }
 ]
}