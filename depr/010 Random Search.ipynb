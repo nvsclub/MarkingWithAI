{
 "metadata": {
  "language_info": {
   "codemirror_mode": {
    "name": "ipython",
    "version": 3
   },
   "file_extension": ".py",
   "mimetype": "text/x-python",
   "name": "python",
   "nbconvert_exporter": "python",
   "pygments_lexer": "ipython3",
   "version": "3.9.4"
  },
  "orig_nbformat": 2,
  "kernelspec": {
   "name": "python394jvsc74a57bd08745603a5c48c4b8e170a840a83d1d2315b8a02a9eb5f018a5a30fe1dee571c6",
   "display_name": "Python 3.9.4 64-bit"
  },
  "metadata": {
   "interpreter": {
    "hash": "8745603a5c48c4b8e170a840a83d1d2315b8a02a9eb5f018a5a30fe1dee571c6"
   }
  }
 },
 "nbformat": 4,
 "nbformat_minor": 2,
 "cells": [
  {
   "cell_type": "code",
   "execution_count": 1,
   "metadata": {},
   "outputs": [],
   "source": [
    "import lib.draw as draw\n",
    "import lib.marking_evaluation as meval\n",
    "import matplotlib.pyplot as plt\n",
    "import numpy as np\n",
    "import pandas as pd\n",
    "import copy\n",
    "from random import randint, random\n",
    "from tqdm import tqdm\n",
    "from time import time"
   ]
  },
  {
   "cell_type": "code",
   "execution_count": 2,
   "metadata": {},
   "outputs": [],
   "source": [
    "adversary = meval.default_adversary_1"
   ]
  },
  {
   "cell_type": "code",
   "execution_count": 3,
   "metadata": {},
   "outputs": [],
   "source": [
    "register = {'proposal': [], 'fitness': [], 'cycle_time': []}"
   ]
  },
  {
   "cell_type": "code",
   "execution_count": 4,
   "metadata": {},
   "outputs": [
    {
     "output_type": "stream",
     "name": "stderr",
     "text": [
      "100%|██████████| 100/100 [00:30<00:00,  3.24it/s]2.115339833575562\n",
      "\n"
     ]
    }
   ],
   "source": [
    "best_fitness = -100\n",
    "best = None\n",
    "for it in tqdm(range(100)):\n",
    "    start_time = time()\n",
    "    proposed_team = meval.generate_random_start()\n",
    "    fitness = adversary.calculate_heuristic(meval.create_team(proposed_team))\n",
    "    if fitness > best_fitness:\n",
    "        best_fitness = fitness\n",
    "        best = copy.deepcopy(proposed_team)\n",
    "\n",
    "    register['proposal'].append(proposed_team)\n",
    "    register['fitness'].append(fitness)\n",
    "    register['elapsed_time'].append(time() - start_time)\n",
    "    \n",
    "print(best_fitness)"
   ]
  },
  {
   "cell_type": "code",
   "execution_count": 5,
   "metadata": {},
   "outputs": [],
   "source": [
    "pd.DataFrame(register).to_csv('results/random_search_da1.csv', index=False)"
   ]
  }
 ]
}