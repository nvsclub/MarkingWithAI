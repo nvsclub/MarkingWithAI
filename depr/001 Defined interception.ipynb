{
 "metadata": {
  "language_info": {
   "codemirror_mode": {
    "name": "ipython",
    "version": 3
   },
   "file_extension": ".py",
   "mimetype": "text/x-python",
   "name": "python",
   "nbconvert_exporter": "python",
   "pygments_lexer": "ipython3",
   "version": "3.8.5"
  },
  "orig_nbformat": 2,
  "kernelspec": {
   "name": "python3",
   "display_name": "Python 3",
   "language": "python"
  }
 },
 "nbformat": 4,
 "nbformat_minor": 2,
 "cells": [
  {
   "cell_type": "code",
   "execution_count": null,
   "metadata": {},
   "outputs": [],
   "source": [
    "import lib.draw as draw\n",
    "import matplotlib.pyplot as plt\n",
    "import numpy as np"
   ]
  },
  {
   "cell_type": "code",
   "execution_count": null,
   "metadata": {},
   "outputs": [],
   "source": [
    "DISTANCE_THRESHOLD = 4"
   ]
  },
  {
   "cell_type": "code",
   "execution_count": null,
   "metadata": {},
   "outputs": [],
   "source": [
    "off_team = [(5.327102803738318, 39.71014492753623), (9.25233644859813, 28.115942028985504), (10.74766355140187, 72.89855072463767), (23.364485981308412, 98.55072463768116), (26.16822429906542, 1.4492753623188406), (20.46728971962617, 49.565217391304344), (32.61682242990654, 27.97101449275362), (32.33644859813084, 70.43478260869564), (48.69158878504673, 97.82608695652173), (48.504672897196265, 51.01449275362319), (48.504672897196265, 3.043478260869565)]\n",
    "def_team = [(28.224299065420563, 86.23188405797102), (29.813084112149536, 69.85507246376811), (31.121495327102807, 48.69565217391304), (31.77570093457944, 17.97101449275362), (30.560747663551403, 31.884057971014492), (37.94392523364486, 63.188405797101446), (22.71028037383178, 55.362318840579704)]"
   ]
  },
  {
   "cell_type": "code",
   "execution_count": null,
   "metadata": {},
   "outputs": [],
   "source": [
    "def draw_team(team_players, team=1):\n",
    "    if team == 1:\n",
    "        for coordinates in team_players:\n",
    "            plt.scatter(coordinates[0], coordinates[1], s=100, color='navy', edgecolors='navy', alpha=0.7, linewidths=1,  zorder=100)\n",
    "    if team == 2:\n",
    "        for coordinates in team_players:\n",
    "            plt.scatter(coordinates[0], coordinates[1], s=100, color='firebrick', edgecolors='firebrick', alpha=0.7, linewidth=1, zorder=100)"
   ]
  },
  {
   "cell_type": "code",
   "execution_count": null,
   "metadata": {},
   "outputs": [],
   "source": [
    "def draw_edges(team_players, draw_all=False, from_player=None):\n",
    "    if draw_all:\n",
    "        for coordinates in team_players:\n",
    "            for target in team_players:\n",
    "                if target != coordinates:\n",
    "                    plt.plot([coordinates[0], target[0]], [coordinates[1], target[1]], color = 'C1')\n",
    "    if from_player is not None:\n",
    "        for target in team_players:\n",
    "            if target != from_player:\n",
    "                plt.plot([from_player[0], target[0]], [from_player[1], target[1]], color = 'palegreen')"
   ]
  },
  {
   "cell_type": "code",
   "execution_count": null,
   "metadata": {},
   "outputs": [],
   "source": [
    "def distance(a, b):\n",
    "    return np.sqrt((a[0] - b[0])**2 + (a[1] - b[1])**2)"
   ]
  },
  {
   "cell_type": "code",
   "execution_count": null,
   "metadata": {},
   "outputs": [],
   "source": [
    "def calculate_blocked_lines(off_team, def_team, from_player):\n",
    "    lines_blocked = []\n",
    "    for off_player in off_team:\n",
    "\n",
    "        if off_player == from_player:\n",
    "            continue\n",
    "\n",
    "        for def_player in def_team:\n",
    "            a, c = linear_equation_from_2_points(from_player, off_player)\n",
    "            x, y = projection_on_line(def_player, a, c, b=-1)\n",
    "\n",
    "            if (from_player[0] < x < off_player[0]) or (off_player[0] < x < from_player[0]):\n",
    "                if distance_to_line(def_player, from_player, off_player) < DISTANCE_THRESHOLD:\n",
    "                    lines_blocked.append([from_player, off_player])\n",
    "                    break\n",
    "\n",
    "    return lines_blocked"
   ]
  },
  {
   "cell_type": "code",
   "execution_count": null,
   "metadata": {},
   "outputs": [],
   "source": [
    "def distance_to_line(p0, p1, p2):\n",
    "    return abs((p2[0]-p1[0])*(p1[1]-p0[1]) - (p1[0]-p0[0])*(p2[1]-p1[1]))/distance(p2,p1)"
   ]
  },
  {
   "cell_type": "code",
   "execution_count": null,
   "metadata": {},
   "outputs": [],
   "source": [
    "def projection_on_line(p, a, c, b=-1):\n",
    "    x = (b * (b*p[0] - a*p[1]) - a * c) / (a * a + b * b)\n",
    "    y = (a * (-b*p[0] + a*p[1]) - b * c) / (a * a + b * b)\n",
    "\n",
    "    return x, y"
   ]
  },
  {
   "cell_type": "code",
   "execution_count": null,
   "metadata": {},
   "outputs": [],
   "source": [
    "def linear_equation_from_2_points(p0, p1):\n",
    "    m = (p1[1] - p0[1]) / (p1[0] - p0[0])\n",
    "    b = p0[1] - m*p0[0]\n",
    "\n",
    "    return m, b"
   ]
  },
  {
   "cell_type": "code",
   "execution_count": null,
   "metadata": {},
   "outputs": [],
   "source": [
    "draw.pitch()\n",
    "draw_team(off_team)\n",
    "#draw_edges(off_team, from_player=off_team[0])"
   ]
  },
  {
   "cell_type": "code",
   "execution_count": null,
   "metadata": {},
   "outputs": [],
   "source": [
    "draw.pitch()\n",
    "draw_team(off_team)\n",
    "draw_team(def_team, team=2)\n",
    "draw_edges(off_team, from_player=off_team[0])\n",
    "blocked_lines = calculate_blocked_lines(off_team, def_team, off_team[0])\n",
    "for blocked_line in blocked_lines:\n",
    "    plt.plot([blocked_line[0][0], blocked_line[1][0]], [blocked_line[0][1], blocked_line[1][1]], color='tomato', alpha = 0.8)"
   ]
  }
 ]
}