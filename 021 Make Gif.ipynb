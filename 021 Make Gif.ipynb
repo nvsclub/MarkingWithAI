{
 "metadata": {
  "language_info": {
   "codemirror_mode": {
    "name": "ipython",
    "version": 3
   },
   "file_extension": ".py",
   "mimetype": "text/x-python",
   "name": "python",
   "nbconvert_exporter": "python",
   "pygments_lexer": "ipython3",
   "version": "3.8.5"
  },
  "orig_nbformat": 4,
  "kernelspec": {
   "name": "python3",
   "display_name": "Python 3.8.5 64-bit"
  },
  "interpreter": {
   "hash": "767d51c1340bd893661ea55ea3124f6de3c7a262a8b4abca0554b478b1e2ff90"
  }
 },
 "nbformat": 4,
 "nbformat_minor": 2,
 "cells": [
  {
   "cell_type": "code",
   "execution_count": 1,
   "metadata": {},
   "outputs": [],
   "source": [
    "import pandas as pd\n",
    "import matplotlib.pyplot as plt\n",
    "import numpy as np\n",
    "from glob import glob\n",
    "from tqdm import tqdm\n",
    "import cv2"
   ]
  },
  {
   "cell_type": "code",
   "execution_count": 2,
   "metadata": {},
   "outputs": [],
   "source": [
    "import lib.marking_evaluation as meval"
   ]
  },
  {
   "cell_type": "code",
   "execution_count": 3,
   "metadata": {},
   "outputs": [],
   "source": [
    "def plot_team(team, save_fig_dir='', dpi=120):\n",
    "    adversary = meval.default_adversary_1\n",
    "    team = [float(i) for i in team.replace('[','').replace(']','').replace(' ','').split(',')]\n",
    "    aux = []\n",
    "    for i in range(10):\n",
    "        aux.append([team[2*i], team[2*i+1]])\n",
    "    team = meval.create_team(aux)\n",
    "\n",
    "    adversary.plot_result(team, save_fig_dir=save_fig_dir, dpi=dpi)"
   ]
  },
  {
   "cell_type": "code",
   "execution_count": 4,
   "metadata": {
    "tags": []
   },
   "outputs": [
    {
     "output_type": "stream",
     "name": "stderr",
     "text": [
      "100%|██████████| 88/88 [22:37<00:00, 15.43s/it]\n"
     ]
    },
    {
     "output_type": "display_data",
     "data": {
      "text/plain": "<Figure size 1260x816 with 0 Axes>"
     },
     "metadata": {}
    }
   ],
   "source": [
    "for file_name in tqdm(glob('results/*.csv')):\n",
    "    file_name = file_name.replace('results/','').replace('.csv','')\n",
    "    res_criteria_1 = pd.read_csv(f'results/{file_name}.csv')\n",
    "    video = cv2.VideoWriter(f'img/gifs/{file_name}.mp4',cv2.VideoWriter_fourcc(*'MPEG'),1,(1247,803))\n",
    "\n",
    "    running_fitness = 0\n",
    "    for i, row in res_criteria_1.iterrows():\n",
    "        if (row.fitness > running_fitness * 1.01) or (i == len(res_criteria_1) - 1):\n",
    "            plot_team(row.proposal, save_fig_dir=f'tmp/giftmp.png')\n",
    "            video.write(cv2.imread(f'tmp/giftmp.png'))\n",
    "            running_fitness = row.fitness\n",
    "\n",
    "video.release()"
   ]
  }
 ]
}