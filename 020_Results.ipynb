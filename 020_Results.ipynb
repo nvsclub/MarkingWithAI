{
 "metadata": {
  "language_info": {
   "codemirror_mode": {
    "name": "ipython",
    "version": 3
   },
   "file_extension": ".py",
   "mimetype": "text/x-python",
   "name": "python",
   "nbconvert_exporter": "python",
   "pygments_lexer": "ipython3",
   "version": "3.7.9"
  },
  "orig_nbformat": 2,
  "kernelspec": {
   "name": "python3",
   "display_name": "Python 3.7.9 64-bit"
  },
  "metadata": {
   "interpreter": {
    "hash": "8745603a5c48c4b8e170a840a83d1d2315b8a02a9eb5f018a5a30fe1dee571c6"
   }
  },
  "interpreter": {
   "hash": "be3673cacc290429a70abc73328a1d6e87f456faa45ae0f9340e7b0605513b82"
  }
 },
 "nbformat": 4,
 "nbformat_minor": 2,
 "cells": [
  {
   "cell_type": "code",
   "execution_count": null,
   "metadata": {},
   "outputs": [],
   "source": [
    "import pandas as pd\n",
    "import matplotlib.pyplot as plt\n",
    "from matplotlib.ticker import StrMethodFormatter\n",
    "import numpy as np\n",
    "from glob import glob"
   ]
  },
  {
   "cell_type": "code",
   "execution_count": null,
   "metadata": {},
   "outputs": [],
   "source": [
    "import lib.marking_evaluation as meval\n",
    "import lib.draw as draw"
   ]
  },
  {
   "cell_type": "code",
   "execution_count": null,
   "metadata": {},
   "outputs": [],
   "source": [
    "def plot_team(team, save_fig_dir='', dpi=1200, adversary=meval.default_adversary_1):\n",
    "    team = [float(i) for i in team.replace('[','').replace(']','').replace(' ','').split(',')]\n",
    "    aux = []\n",
    "    for i in range(10):\n",
    "        aux.append([team[2*i], team[2*i+1]])\n",
    "    team = meval.create_team(aux)\n",
    "\n",
    "    adversary.plot_result(team, save_fig_dir=save_fig_dir)"
   ]
  },
  {
   "cell_type": "code",
   "execution_count": null,
   "metadata": {},
   "outputs": [],
   "source": [
    "meval.default_adversary_1.plot_team(dpi=1200)\n",
    "plt.savefig('img/pitch_viz/100_default_adversary.pdf', format='pdf', bbox_inches='tight');"
   ]
  },
  {
   "cell_type": "code",
   "execution_count": null,
   "metadata": {},
   "outputs": [],
   "source": [
    "draw.pitch(dpi = 1200)\n",
    "attacking_team = [(player.x, player.y, 0) for player in meval.default_442_formation.players]\n",
    "for i, player in enumerate(attacking_team):\n",
    "    plt.scatter(player[0], player[1], s=75, color='orange', edgecolors='C1', linewidths=1,  zorder=10)\n",
    "    plt.text(player[0], player[1], i, zorder=11, fontsize='xx-small', color='white', ha='center', va='center')\n",
    "plt.savefig('img/pitch_viz/101_442_formation.pdf', format='pdf', bbox_inches='tight');"
   ]
  },
  {
   "source": [
    "# Isolated criteria"
   ],
   "cell_type": "markdown",
   "metadata": {}
  },
  {
   "cell_type": "code",
   "execution_count": null,
   "metadata": {},
   "outputs": [],
   "source": [
    "res_criteria_1 = pd.read_csv('results/005_criteria_1000_Jun_12_08_32_14.csv')\n",
    "plot_team(res_criteria_1[res_criteria_1.fitness == res_criteria_1.fitness.max()].proposal.iloc[0], save_fig_dir='img/pitch_viz/ic_1000.pdf');"
   ]
  },
  {
   "cell_type": "code",
   "execution_count": null,
   "metadata": {},
   "outputs": [],
   "source": [
    "res_criteria_1 = pd.read_csv('results/005_criteria_0100_Jun_12_08_33_39.csv')\n",
    "plot_team(res_criteria_1[res_criteria_1.fitness == res_criteria_1.fitness.max()].proposal.iloc[0], save_fig_dir='img/pitch_viz/ic_0100.pdf');"
   ]
  },
  {
   "cell_type": "code",
   "execution_count": null,
   "metadata": {},
   "outputs": [],
   "source": [
    "res_criteria_1 = pd.read_csv('results/005_criteria_0010_Jun_12_08_41_09.csv')\n",
    "plot_team(res_criteria_1[res_criteria_1.fitness == res_criteria_1.fitness.max()].proposal.iloc[0], save_fig_dir='img/pitch_viz/ic_0010.pdf');"
   ]
  },
  {
   "cell_type": "code",
   "execution_count": null,
   "metadata": {},
   "outputs": [],
   "source": [
    "res_criteria_1 = pd.read_csv('results/005_criteria_0001_Jun_12_08_53_40.csv')\n",
    "plot_team(res_criteria_1[res_criteria_1.fitness == res_criteria_1.fitness.max()].proposal.iloc[0], save_fig_dir='img/pitch_viz/ic_0001.pdf');"
   ]
  },
  {
   "source": [
    "# Random Search"
   ],
   "cell_type": "markdown",
   "metadata": {}
  },
  {
   "cell_type": "code",
   "execution_count": null,
   "metadata": {},
   "outputs": [],
   "source": [
    "randsearch = [pd.read_csv(f) for f in glob('results/010_randsearch*.csv')]\n",
    "for res in randsearch: res.fitness = res.fitness.clip(0)\n",
    "worse_randsearch = randsearch[[df.fitness.max() for df in randsearch].index(min([df.fitness.max() for df in randsearch]))]\n",
    "best_randsearch = randsearch[[df.fitness.max() for df in randsearch].index(max([df.fitness.max() for df in randsearch]))]\n",
    "avg_randsearch = randsearch[0].fitness.rolling(60000, min_periods=1).max()\n",
    "for res in randsearch[1:]: avg_randsearch += res.fitness.rolling(60000, min_periods=1).max()\n",
    "avg_randsearch /= len(randsearch)"
   ]
  },
  {
   "cell_type": "code",
   "execution_count": null,
   "metadata": {},
   "outputs": [],
   "source": [
    "plot_team(best_randsearch[best_randsearch.fitness == best_randsearch.fitness.max()].proposal.iloc[0], save_fig_dir='img/pitch_viz/101_best_random.pdf')"
   ]
  },
  {
   "source": [
    "# Optuna CMA-ES"
   ],
   "cell_type": "markdown",
   "metadata": {}
  },
  {
   "cell_type": "code",
   "execution_count": null,
   "metadata": {},
   "outputs": [],
   "source": [
    "cmaes = [pd.read_csv(f) for f in glob('results/011a_cmaes*.csv')]\n",
    "for res in cmaes: res.fitness = res.fitness.clip(0)\n",
    "worse_cmaes = cmaes[[df.fitness.max() for df in cmaes].index(min([df.fitness.max() for df in cmaes]))]\n",
    "best_cmaes = cmaes[[df.fitness.max() for df in cmaes].index(max([df.fitness.max() for df in cmaes]))]\n",
    "avg_cmaes = cmaes[0].fitness.rolling(60000, min_periods=1).max()\n",
    "for res in cmaes[1:]: avg_cmaes += res.fitness.rolling(60000, min_periods=1).max()\n",
    "avg_cmaes /= len(cmaes)"
   ]
  },
  {
   "cell_type": "code",
   "execution_count": null,
   "metadata": {},
   "outputs": [],
   "source": [
    "plot_team(best_cmaes[best_cmaes.fitness == best_cmaes.fitness.max()].proposal.iloc[0], save_fig_dir='img/pitch_viz/102_best_cmaes.pdf');"
   ]
  },
  {
   "source": [
    "# Optuna TPE"
   ],
   "cell_type": "markdown",
   "metadata": {}
  },
  {
   "cell_type": "code",
   "execution_count": null,
   "metadata": {},
   "outputs": [],
   "source": [
    "tpe = [pd.read_csv(f) for f in glob('results/011b_tpe*.csv')]\n",
    "for res in tpe: res.fitness = res.fitness.clip(0)\n",
    "worse_tpe = tpe[[df.fitness.max() for df in tpe].index(min([df.fitness.max() for df in tpe]))]\n",
    "best_tpe = tpe[[df.fitness.max() for df in tpe].index(max([df.fitness.max() for df in tpe]))]\n",
    "avg_tpe = tpe[0].fitness.rolling(60000, min_periods=1).max()\n",
    "for res in tpe[1:]: avg_tpe += res.fitness.rolling(60000, min_periods=1).max()\n",
    "avg_tpe /= len(tpe)"
   ]
  },
  {
   "cell_type": "code",
   "execution_count": null,
   "metadata": {},
   "outputs": [],
   "source": [
    "plot_team(best_tpe[best_tpe.fitness == best_tpe.fitness.max()].proposal.iloc[0], save_fig_dir='img/pitch_viz/103_best_tpe.pdf');"
   ]
  },
  {
   "source": [
    "# Hill climb   "
   ],
   "cell_type": "markdown",
   "metadata": {}
  },
  {
   "cell_type": "code",
   "execution_count": null,
   "metadata": {},
   "outputs": [],
   "source": [
    "hillclimb = [pd.read_csv(f) for f in glob('results/012_hillclimb*.csv')]\n",
    "for res in hillclimb: res.fitness = res.fitness.clip(0)\n",
    "worse_hillclimb = hillclimb[[df.fitness.max() for df in hillclimb].index(min([df.fitness.max() for df in hillclimb]))]\n",
    "best_hillclimb = hillclimb[[df.fitness.max() for df in hillclimb].index(max([df.fitness.max() for df in hillclimb]))]\n",
    "avg_hillclimb = hillclimb[0].fitness.rolling(60000, min_periods=1).max()\n",
    "for res in hillclimb[1:]: avg_hillclimb += res.fitness.rolling(60000, min_periods=1).max()\n",
    "avg_hillclimb /= len(hillclimb)"
   ]
  },
  {
   "cell_type": "code",
   "execution_count": null,
   "metadata": {},
   "outputs": [],
   "source": [
    "plot_team(best_hillclimb[best_hillclimb.fitness == best_hillclimb.fitness.max()].proposal.iloc[0], save_fig_dir='img/pitch_viz/105_best_hclimb.pdf');"
   ]
  },
  {
   "source": [
    "# Simulated Annealing"
   ],
   "cell_type": "markdown",
   "metadata": {}
  },
  {
   "cell_type": "code",
   "execution_count": null,
   "metadata": {},
   "outputs": [],
   "source": [
    "simanneal = [pd.read_csv(f) for f in glob('results/013_simanneal*.csv')]\n",
    "for res in simanneal: res.fitness = res.fitness.clip(0)\n",
    "worse_simanneal = simanneal[[df.fitness.max() for df in simanneal].index(min([df.fitness.max() for df in simanneal]))]\n",
    "best_simanneal = simanneal[[df.fitness.max() for df in simanneal].index(max([df.fitness.max() for df in simanneal]))]\n",
    "avg_simanneal = simanneal[0].fitness.rolling(60000, min_periods=1).max()\n",
    "for res in simanneal[1:]: avg_simanneal += res.fitness.rolling(60000, min_periods=1).max()\n",
    "avg_simanneal /= len(simanneal)"
   ]
  },
  {
   "cell_type": "code",
   "execution_count": null,
   "metadata": {},
   "outputs": [],
   "source": [
    "plot_team(best_simanneal[best_simanneal.fitness == best_simanneal.fitness.max()].proposal.iloc[0], save_fig_dir='img/pitch_viz/106_best_sanneal.pdf');"
   ]
  },
  {
   "source": [
    "# Genetic Algorithms"
   ],
   "cell_type": "markdown",
   "metadata": {}
  },
  {
   "cell_type": "code",
   "execution_count": null,
   "metadata": {},
   "outputs": [],
   "source": [
    "genetic = [pd.read_csv(f) for f in glob('results/014_genetic*.csv')]\n",
    "for res in genetic: res.fitness = res.fitness.clip(0)\n",
    "worse_genetic = genetic[[df.fitness.max() for df in genetic].index(min([df.fitness.max() for df in genetic]))]\n",
    "best_genetic = genetic[[df.fitness.max() for df in genetic].index(max([df.fitness.max() for df in genetic]))]\n",
    "avg_genetic = genetic[0].fitness.rolling(60000, min_periods=1).max()\n",
    "for res in genetic[1:]: avg_genetic += res.fitness.rolling(60000, min_periods=1).max()\n",
    "avg_genetic /= len(genetic)"
   ]
  },
  {
   "cell_type": "code",
   "execution_count": null,
   "metadata": {},
   "outputs": [],
   "source": [
    "plot_team(best_genetic[best_genetic.fitness == best_genetic.fitness.max()].proposal.iloc[0], save_fig_dir='img/pitch_viz/107_best_galg.pdf');"
   ]
  },
  {
   "source": [
    "# Generalization"
   ],
   "cell_type": "markdown",
   "metadata": {}
  },
  {
   "cell_type": "code",
   "execution_count": null,
   "metadata": {},
   "outputs": [],
   "source": [
    "new_adversary_1 = pd.read_csv('results/015_generalize_2_Jun_12_08_43_26.csv')\n",
    "plot_team(new_adversary_1[new_adversary_1.fitness == new_adversary_1.fitness.max()].proposal.iloc[0], adversary=meval.default_adversary_2, save_fig_dir='img/pitch_viz/111_da2.pdf');"
   ]
  },
  {
   "cell_type": "code",
   "execution_count": null,
   "metadata": {},
   "outputs": [],
   "source": [
    "new_adversary_2 = pd.read_csv('results/015_generalize_3_Jun_12_08_58_10.csv')\n",
    "plot_team(new_adversary_2[new_adversary_2.fitness == new_adversary_2.fitness.max()].proposal.iloc[0], adversary=meval.default_adversary_3, save_fig_dir='img/pitch_viz/111_da3.pdf');"
   ]
  },
  {
   "cell_type": "code",
   "execution_count": null,
   "metadata": {},
   "outputs": [],
   "source": [
    "new_adversary_3 = pd.read_csv('results/015_generalize_4_Jun_12_09_12_19.csv')\n",
    "plot_team(new_adversary_3[new_adversary_3.fitness == new_adversary_3.fitness.max()].proposal.iloc[0], adversary=meval.default_adversary_4, save_fig_dir='img/pitch_viz/111_da4.pdf');"
   ]
  },
  {
   "cell_type": "code",
   "execution_count": null,
   "metadata": {},
   "outputs": [],
   "source": [
    "new_adversary_4 = pd.read_csv('results/015_generalize_5_Jun_12_09_22_31.csv')\n",
    "plot_team(new_adversary_4[new_adversary_4.fitness == new_adversary_4.fitness.max()].proposal.iloc[0], adversary=meval.default_adversary_5, save_fig_dir='img/pitch_viz/111_da5.pdf');"
   ]
  },
  {
   "source": [
    "# Evolution plots"
   ],
   "cell_type": "markdown",
   "metadata": {}
  },
  {
   "cell_type": "code",
   "execution_count": null,
   "metadata": {},
   "outputs": [],
   "source": [
    "plt.style.use('grayscale')\n",
    "plt.rcParams['figure.facecolor'] = 'white'\n",
    "plt.rcParams['figure.dpi'] = 1200\n",
    "plt.rcParams['figure.figsize'] = (9,4)\n",
    "plt.rcParams['font.size'] = 16"
   ]
  },
  {
   "cell_type": "code",
   "execution_count": null,
   "metadata": {},
   "outputs": [],
   "source": [
    "def type1_figure(df_best, baseline=True, baseline_len=10000):\n",
    "    plt.plot(df_best.fitness, marker='.', linestyle='', color='C1', label='Iteration', markersize=0.7)\n",
    "    plt.plot(df_best.fitness.rolling(60000, min_periods=1).max(), color='C0', alpha=0.8, lw=3)\n",
    "    plt.plot(df_best.fitness.rolling(60000, min_periods=1).max(), color='red', alpha=0.8, lw=3, label='Solution')\n",
    "    if baseline: plt.plot(res_random_search_da1.fitness.iloc[:baseline_len].rolling(60000, min_periods=1).max(), color='C3', label='Random Search', zorder=-1)\n",
    "    plt.grid(alpha=0.12, linestyle='--')\n",
    "    plt.ticklabel_format(axis='x', style='sci', scilimits=[0, 2])\n",
    "    plt.ylabel('Fitness')\n",
    "    plt.xlabel('Iteration')"
   ]
  },
  {
   "cell_type": "code",
   "execution_count": null,
   "metadata": {},
   "outputs": [],
   "source": [
    "def type2_figure(res, baseline_len=4000):\n",
    "    for df in res:\n",
    "        df = df.drop_duplicates()\n",
    "        plt.plot(df.fitness.rolling(60000, min_periods=1).max(), color='C0', alpha=0.7, lw=2.5, label='Solution')\n",
    "\n",
    "    best = [df.fitness.max() for df in res].index(max([df.fitness.max() for df in res]))\n",
    "    worst = [df.fitness.max() for df in res].index(min([df.fitness.max() for df in res]))\n",
    "\n",
    "    plt.plot(res[best].fitness.rolling(60000, min_periods=1).max(), color='red', alpha=0.7, lw=3, label='Best performance')\n",
    "    plt.plot(res[worst].fitness.rolling(60000, min_periods=1).max(), color='chocolate', alpha=0.7, lw=3, label='Worst performance')\n",
    "    plt.plot(res_random_search_da1.fitness.iloc[:baseline_len].rolling(60000, min_periods=1).max(), color='C3', label='Random Search')\n",
    "    plt.ylabel('Fitness')\n",
    "    plt.xlabel('Iteration')\n",
    "    plt.grid(alpha=0.12, linestyle='--')\n",
    "    plt.ticklabel_format(axis='x', style='sci', scilimits=[0, 2])"
   ]
  },
  {
   "source": [
    "## Random Search"
   ],
   "cell_type": "markdown",
   "metadata": {}
  },
  {
   "cell_type": "code",
   "execution_count": null,
   "metadata": {},
   "outputs": [],
   "source": [
    "randsearch_time_per_it = np.median([df.cycle_time.sum()/len(df) for df in randsearch])\n",
    "cmaes_time_per_it = np.median([df.cycle_time.sum()/len(df) for df in cmaes])\n",
    "tpe_time_per_it = np.median([df.cycle_time.sum()/len(df) for df in tpe])\n",
    "hillclimb_time_per_it = np.median([df.groupby('iteration').max().cycle_time.sum()/len(df) for df in hillclimb])\n",
    "simanneal_time_per_it = np.median([df.groupby('iteration').max().cycle_time.sum()/len(df) for df in simanneal])\n",
    "genetic_time_per_it = np.median([df.groupby('iteration').max().cycle_time.sum()/len(df) for df in genetic])\n",
    "cmaes_time_per_it, tpe_time_per_it, hillclimb_time_per_it, simanneal_time_per_it, genetic_time_per_it"
   ]
  },
  {
   "cell_type": "code",
   "execution_count": null,
   "metadata": {},
   "outputs": [],
   "source": [
    "cmaes_time = int(np.median([df.cycle_time.sum() for df in cmaes]) / randsearch_time_per_it)\n",
    "tpe_time = int(np.median([df.cycle_time.sum() for df in tpe]) / randsearch_time_per_it)\n",
    "hillclimb_time = int(np.median([df.groupby('iteration').max().cycle_time.sum() for df in hillclimb]) / randsearch_time_per_it)\n",
    "simanneal_time = int(np.median([df.groupby('iteration').max().cycle_time.sum() for df in simanneal]) / randsearch_time_per_it)\n",
    "genetic_time = int(np.median([df.groupby('iteration').max().cycle_time.sum() for df in genetic]) / randsearch_time_per_it)\n",
    "cmaes_time, tpe_time, hillclimb_time, simanneal_time, genetic_time"
   ]
  },
  {
   "source": [
    "avg_randsearch.iloc[cmaes_time], avg_randsearch.iloc[tpe_time], avg_randsearch.iloc[hillclimb_time], avg_randsearch.iloc[simanneal_time],  avg_randsearch.iloc[genetic_time]"
   ],
   "cell_type": "code",
   "metadata": {},
   "execution_count": null,
   "outputs": []
  },
  {
   "cell_type": "code",
   "execution_count": null,
   "metadata": {},
   "outputs": [],
   "source": [
    "boxwidth = 500\n",
    "\n",
    "longest_time = max([run.cycle_time.cumsum().iloc[-1] for run in randsearch])\n",
    "tries_results = []\n",
    "for run in randsearch:\n",
    "    plt.plot(run.cycle_time.cumsum(), run.fitness.rolling(60000, min_periods=1).max(), color='tab:orange', alpha=0.3, zorder=2, label='Individual Runs')\n",
    "    tries_results.append(run.fitness.max())\n",
    "vplot = plt.violinplot([tries_results], positions=[longest_time], widths=boxwidth)\n",
    "for pc in vplot['bodies']:\n",
    "    pc.set_linewidth(1)\n",
    "    pc.set_facecolor('tab:orange')\n",
    "    pc.set_edgecolor('tab:orange')\n",
    "    pc.set_alpha(0.5)\n",
    "\n",
    "plt.plot(best_randsearch.cycle_time.cumsum(), best_randsearch.fitness.rolling(60000, min_periods=1).max(), color='#a50258', linewidth=2.5, linestyle='--', label='Best', zorder=3)\n",
    "plt.plot(avg_randsearch.index * randsearch_time_per_it, avg_randsearch, color='#0272a2', linewidth=2.5, linestyle='-.', label='Average', zorder=3)\n",
    "plt.plot(worse_randsearch.cycle_time.cumsum(), worse_randsearch.fitness.rolling(60000, min_periods=1).max(), color='#8c510a', linewidth=2.5, linestyle=':', label='Worse', zorder=3)\n",
    "\n",
    "boxes, positions = [], []\n",
    "for i in range(100):\n",
    "    boxes.append(best_randsearch[(best_randsearch.cycle_time.cumsum() > i*boxwidth) & (best_randsearch.cycle_time.cumsum() < (i+1)*boxwidth)].fitness)\n",
    "    positions.append(boxwidth/2 + i*boxwidth)\n",
    "    if (i + 2) * boxwidth > best_randsearch.cycle_time.cumsum().iloc[-1]:\n",
    "        break\n",
    "vplot = plt.violinplot(boxes, positions=positions, widths=boxwidth)\n",
    "for pc in vplot['bodies']:\n",
    "    pc.set_color('tab:grey')\n",
    "    pc.set_facecolor('tab:grey')\n",
    "    pc.set_edgecolor('tab:grey')\n",
    "\n",
    "plt.xticks([i*boxwidth for i in range(int(longest_time / boxwidth)+1)], rotation=40)\n",
    "plt.grid(alpha=0.12, linestyle='--')\n",
    "plt.xlabel('Time spent (s)')\n",
    "plt.ylabel('Fitness')\n",
    "\n",
    "plt.annotate('CMA-ES\\n(13 392, 2.65)', xy=(6543 * randsearch_time_per_it, 3.01), xytext=(0,-60), textcoords='offset points', ha='center', va='bottom', fontsize='x-small', bbox=dict(boxstyle='square,pad=0.2', fc='white'), arrowprops=dict(arrowstyle='->', color='#0272a2'))\n",
    "plt.annotate('TPE\\n(30 698, 2.73)', xy=(13412 * randsearch_time_per_it, 3.06), xytext=(0,-60), textcoords='offset points', ha='center', va='center', fontsize='x-small', bbox=dict(boxstyle='square,pad=0.2', fc='white'), arrowprops=dict(arrowstyle='->', color='#0272a2'))\n",
    "plt.annotate('Hill Climb\\n(2 704, 2.54)', xy=(2680 * randsearch_time_per_it, 2.98), xytext=(0,-60), textcoords='offset points', ha='center', va='bottom', fontsize='x-small', bbox=dict(boxstyle='square,pad=0.2', fc='white'), arrowprops=dict(arrowstyle='->', color='#0272a2'))\n",
    "plt.annotate('Simulated Annealing\\n(4 317, 2.54)', xy=(4712 * randsearch_time_per_it, 3.00), xytext=(0,20), textcoords='offset points', ha='center', va='bottom', fontsize='x-small', bbox=dict(boxstyle='square,pad=0.2', fc='white'), arrowprops=dict(arrowstyle='->', color='#0272a2'))\n",
    "plt.annotate('Genetic Algorithms\\n(6 846, 2.65)', xy=(10704 * randsearch_time_per_it, 3.05), xytext=(0,-105), textcoords='offset points', ha='center', va='bottom', fontsize='x-small', bbox=dict(boxstyle='square,pad=0.2', fc='white'), arrowprops=dict(arrowstyle='->', color='#0272a2'))\n",
    "plt.scatter([6543 * randsearch_time_per_it, 13412 * randsearch_time_per_it, 2680 * randsearch_time_per_it, 4712 * randsearch_time_per_it, 10704 * randsearch_time_per_it], [3.01, 3.06, 2.98, 3.00, 3.05], s=10, color='#0272a2', zorder = 5)\n",
    "\n",
    "handles, labels = plt.gca().get_legend_handles_labels()\n",
    "by_label = dict(zip(labels, handles))\n",
    "plt.legend(by_label.values(), by_label.keys(), prop={'size': 12}, ncol=4)\n",
    "plt.savefig('img/results/001_randomsearch.pdf', format='pdf', bbox_inches='tight');"
   ]
  },
  {
   "source": [
    "### CMAES"
   ],
   "cell_type": "markdown",
   "metadata": {}
  },
  {
   "cell_type": "code",
   "execution_count": null,
   "metadata": {},
   "outputs": [],
   "source": [
    "best_cmaes[best_cmaes.fitness > best_cmaes.fitness.max()*0.99].iloc[0].name, best_cmaes.fitness.max()"
   ]
  },
  {
   "cell_type": "code",
   "execution_count": null,
   "metadata": {},
   "outputs": [],
   "source": [
    "boxwidth = 150\n",
    "\n",
    "longest_time = max([run.cycle_time.cumsum().iloc[-1] for run in cmaes])\n",
    "tries_results = []\n",
    "for run in cmaes:\n",
    "    plt.plot(run.cycle_time.cumsum(), run.fitness.rolling(60000, min_periods=1).max(), color='tab:orange', alpha=0.3, zorder=2, label='Individual Runs')\n",
    "    tries_results.append(run.fitness.max())\n",
    "vplot = plt.violinplot([tries_results], positions=[longest_time], widths=boxwidth)\n",
    "for pc in vplot['bodies']:\n",
    "    pc.set_linewidth(1)\n",
    "    pc.set_facecolor('tab:orange')\n",
    "    pc.set_edgecolor('tab:orange')\n",
    "    pc.set_alpha(0.5)\n",
    "\n",
    "plt.plot(best_cmaes.cycle_time.cumsum(), best_cmaes.fitness.rolling(60000, min_periods=1).max(), color='#a50258', linewidth=2.5, linestyle='--', label='Best', zorder=3)\n",
    "plt.plot(avg_cmaes.index * cmaes_time_per_it, avg_cmaes, color='#0272a2', linewidth=2.5, linestyle='-.', label='Average', zorder=3)\n",
    "plt.plot(worse_cmaes.cycle_time.cumsum(), worse_cmaes.fitness.rolling(60000, min_periods=1).max(), color='#8c510a', linewidth=2.5, linestyle=':', label='Worse', zorder=3)\n",
    "\n",
    "boxes, positions = [], []\n",
    "for i in range(100):\n",
    "    boxes.append(best_cmaes[(best_cmaes.cycle_time.cumsum() > i*boxwidth) & (best_cmaes.cycle_time.cumsum() < (i+1)*boxwidth)].fitness)\n",
    "    positions.append(boxwidth/2 + i*boxwidth)\n",
    "    if (i + 2) * boxwidth > best_cmaes.cycle_time.cumsum().iloc[-1]:\n",
    "        break\n",
    "vplot = plt.violinplot(boxes, positions=positions, widths=boxwidth)\n",
    "for pc in vplot['bodies']:\n",
    "    pc.set_color('tab:grey')\n",
    "    pc.set_facecolor('tab:grey')\n",
    "    pc.set_edgecolor('tab:grey')\n",
    "\n",
    "plt.xticks([i*boxwidth for i in range(int(longest_time / boxwidth)+1)], rotation=40)\n",
    "plt.grid(alpha=0.12, linestyle='--')\n",
    "plt.xlabel('Time spent (s)')\n",
    "plt.ylabel('Fitness')\n",
    "\n",
    "handles, labels = plt.gca().get_legend_handles_labels()\n",
    "by_label = dict(zip(labels, handles))\n",
    "plt.legend(by_label.values(), by_label.keys(), prop={'size': 12}, ncol=4)\n",
    "plt.savefig('img/results/002_cmaes.pdf', format='pdf', bbox_inches='tight');"
   ]
  },
  {
   "cell_type": "code",
   "execution_count": null,
   "metadata": {},
   "outputs": [],
   "source": [
    "# plt.annotate('Reached\\nscore of 3.5\\n(3 839, 3.88)', xy=(3839, 3.88), xytext=(0,-60), textcoords='offset points', ha='center', va='center', fontsize='x-small', bbox=dict(boxstyle='square,pad=0.2', fc='white'), arrowprops=dict(arrowstyle='->', color='red'))\n",
    "# plt.annotate('Improved <1%\\nin ~6 200 iterations\\n(9 999, 3.90)', xy=(4000, 3.90), xytext=(-50,-60), textcoords='offset points', ha='center', va='center', fontsize='x-small', bbox=dict(boxstyle='square,pad=0.2', fc='white'), arrowprops=dict(arrowstyle='->', color='red'))\n",
    "# plt.scatter([3839, 4000], [3.88, 3.90], s=8, color='red', zorder = 3)"
   ]
  },
  {
   "source": [
    "### TPE"
   ],
   "cell_type": "markdown",
   "metadata": {}
  },
  {
   "cell_type": "code",
   "execution_count": null,
   "metadata": {},
   "outputs": [],
   "source": [
    "boxwidth = 300\n",
    "\n",
    "longest_time = max([run.cycle_time.cumsum().iloc[-1] for run in tpe])\n",
    "tries_results = []\n",
    "for run in tpe:\n",
    "    plt.plot(run.cycle_time.cumsum(), run.fitness.rolling(60000, min_periods=1).max(), color='tab:orange', alpha=0.3, zorder=2, label='Individual Runs')\n",
    "    tries_results.append(run.fitness.max())\n",
    "vplot = plt.violinplot([tries_results], positions=[longest_time], widths=boxwidth)\n",
    "for pc in vplot['bodies']:\n",
    "    pc.set_linewidth(1)\n",
    "    pc.set_facecolor('tab:orange')\n",
    "    pc.set_edgecolor('tab:orange')\n",
    "    pc.set_alpha(0.5)\n",
    "\n",
    "plt.plot(best_tpe.cycle_time.cumsum(), best_tpe.fitness.rolling(60000, min_periods=1).max(), color='#a50258', linewidth=2.5, linestyle='--', label='Best', zorder=3)\n",
    "plt.plot(avg_tpe.index * tpe_time_per_it, avg_tpe, color='#0272a2', linewidth=2.5, linestyle='-.', label='Average', zorder=3)\n",
    "plt.plot(worse_tpe.cycle_time.cumsum(), worse_tpe.fitness.rolling(60000, min_periods=1).max(), color='#8c510a', linewidth=2.5, linestyle=':', label='Worse', zorder=3)\n",
    "\n",
    "boxes, positions = [], []\n",
    "for i in range(100):\n",
    "    boxes.append(best_tpe[(best_tpe.cycle_time.cumsum() > i*boxwidth) & (best_tpe.cycle_time.cumsum() < (i+1)*boxwidth)].fitness)\n",
    "    positions.append(boxwidth/2 + i*boxwidth)\n",
    "    if (i + 2) * boxwidth > best_tpe.cycle_time.cumsum().iloc[-1]:\n",
    "        break\n",
    "vplot = plt.violinplot(boxes, positions=positions, widths=boxwidth)\n",
    "for pc in vplot['bodies']:\n",
    "    pc.set_color('tab:grey')\n",
    "    pc.set_facecolor('tab:grey')\n",
    "    pc.set_edgecolor('tab:grey')\n",
    "\n",
    "plt.xticks([i*boxwidth for i in range(int(longest_time / boxwidth)+1)], rotation=40)\n",
    "plt.grid(alpha=0.12, linestyle='--')\n",
    "plt.xlabel('Time spent (s)')\n",
    "plt.ylabel('Fitness')\n",
    "\n",
    "handles, labels = plt.gca().get_legend_handles_labels()\n",
    "by_label = dict(zip(labels, handles))\n",
    "plt.legend(by_label.values(), by_label.keys(), prop={'size': 12}, ncol=4)\n",
    "plt.savefig('img/results/003_tpe.pdf', format='pdf', bbox_inches='tight');"
   ]
  },
  {
   "cell_type": "code",
   "execution_count": null,
   "metadata": {},
   "outputs": [],
   "source": [
    "# plt.annotate('Many unproductive iterations\\nacross all iteration range', xy=(8000, -1.2), xytext=(0,-45), textcoords='offset points', ha='center', va='bottom', fontsize='x-small', bbox=dict(boxstyle='square,pad=0.2', fc='white'), arrowprops=dict(arrowstyle='->', color='red'))\n",
    "# plt.annotate('Fails to improve\\nlocal minimum\\n(3 675-6 358, 3.36)', xy=(5000, 3.36), xytext=(0,-90), textcoords='offset points', ha='center', va='center', fontsize='x-small', bbox=dict(boxstyle='square,pad=0.2', fc='white'), arrowprops=dict(arrowstyle='->', color='red'))\n",
    "# plt.annotate('Reached\\nscore of 3.54\\n(7 239, 3.54)', xy=(7239, 3.54), xytext=(0,-60), textcoords='offset points', ha='center', va='bottom', fontsize='x-small', bbox=dict(boxstyle='square,pad=0.2', fc='white'), arrowprops=dict(arrowstyle='->', color='red'))\n",
    "# plt.scatter([7239], [3.54], s=4, color='red', zorder = 3)\n",
    "# plt.plot([3675, 6358], [3.36, 3.36], lw=3, color='orange')"
   ]
  },
  {
   "source": [
    "### Hill climb"
   ],
   "cell_type": "markdown",
   "metadata": {}
  },
  {
   "cell_type": "code",
   "execution_count": null,
   "metadata": {},
   "outputs": [],
   "source": [
    "boxwidth = 75\n",
    "\n",
    "longest_time = max([(run.index * hillclimb_time_per_it)[-1] for run in hillclimb])\n",
    "tries_results = []\n",
    "for run in hillclimb:\n",
    "    plt.plot(run.index * hillclimb_time_per_it, run.fitness.rolling(60000, min_periods=1).max(), color='tab:orange', alpha=0.3, zorder=2, label='Individual Runs')\n",
    "    tries_results.append(run.fitness.max())\n",
    "vplot = plt.violinplot([tries_results], positions=[longest_time], widths=boxwidth)\n",
    "for pc in vplot['bodies']:\n",
    "    pc.set_linewidth(1)\n",
    "    pc.set_facecolor('tab:orange')\n",
    "    pc.set_edgecolor('tab:orange')\n",
    "    pc.set_alpha(0.5)\n",
    "\n",
    "plt.plot(best_hillclimb.index * hillclimb_time_per_it, best_hillclimb.fitness.rolling(60000, min_periods=1).max(), color='#a50258', linewidth=2.5, linestyle='--', label='Best', zorder=3)\n",
    "plt.plot(avg_hillclimb.index * hillclimb_time_per_it, avg_hillclimb, color='#0272a2', linewidth=2.5, linestyle='-.', label='Average', zorder=3)\n",
    "plt.plot(worse_hillclimb.index * hillclimb_time_per_it, worse_hillclimb.fitness.rolling(60000, min_periods=1).max(), color='#8c510a', linewidth=2.5, linestyle=':', label='Worse', zorder=3)\n",
    "\n",
    "boxes, positions = [], []\n",
    "for i in range(100):\n",
    "    boxes.append(best_hillclimb[(best_hillclimb.index * hillclimb_time_per_it > i*boxwidth) & (best_hillclimb.index * hillclimb_time_per_it < (i+1)*boxwidth)].fitness)\n",
    "    positions.append(boxwidth/2 + i*boxwidth)\n",
    "    if (i + 2) * boxwidth > (best_hillclimb.index * hillclimb_time_per_it)[-1]:\n",
    "        break\n",
    "vplot = plt.violinplot(boxes, positions=positions, widths=boxwidth)\n",
    "for pc in vplot['bodies']:\n",
    "    pc.set_color('tab:grey')\n",
    "    pc.set_facecolor('tab:grey')\n",
    "    pc.set_edgecolor('tab:grey')\n",
    "\n",
    "plt.xticks([i*boxwidth for i in range(int(longest_time / boxwidth)+1)], rotation=40)\n",
    "plt.grid(alpha=0.12, linestyle='--')\n",
    "plt.xlabel('Time spent (s)')\n",
    "plt.ylabel('Fitness')\n",
    "\n",
    "handles, labels = plt.gca().get_legend_handles_labels()\n",
    "by_label = dict(zip(labels, handles))\n",
    "plt.legend(by_label.values(), by_label.keys(), prop={'size': 12}, ncol=4)\n",
    "plt.savefig('img/results/004_hillclimb.pdf', format='pdf', bbox_inches='tight');"
   ]
  },
  {
   "source": [
    "### Simulated annealing"
   ],
   "cell_type": "markdown",
   "metadata": {}
  },
  {
   "cell_type": "code",
   "execution_count": null,
   "metadata": {},
   "outputs": [],
   "source": [
    "boxwidth = 150\n",
    "\n",
    "longest_time = max([(run.index * simanneal_time_per_it)[-1] for run in simanneal])\n",
    "tries_results = []\n",
    "for run in simanneal:\n",
    "    plt.plot(run.index * simanneal_time_per_it, run.fitness.rolling(60000, min_periods=1).max(), color='tab:orange', alpha=0.3, zorder=2, label='Individual Runs')\n",
    "    tries_results.append(run.fitness.max())\n",
    "vplot = plt.violinplot([tries_results], positions=[longest_time], widths=boxwidth)\n",
    "for pc in vplot['bodies']:\n",
    "    pc.set_linewidth(1)\n",
    "    pc.set_facecolor('tab:orange')\n",
    "    pc.set_edgecolor('tab:orange')\n",
    "    pc.set_alpha(0.5)\n",
    "\n",
    "plt.plot(best_simanneal.index * simanneal_time_per_it, best_simanneal.fitness.rolling(60000, min_periods=1).max(), color='#a50258', linewidth=2.5, linestyle='--', label='Best', zorder=3)\n",
    "plt.plot(avg_simanneal.index * simanneal_time_per_it, avg_simanneal, color='#0272a2', linewidth=2.5, linestyle='-.', label='Average', zorder=3)\n",
    "plt.plot(worse_simanneal.index * simanneal_time_per_it, worse_simanneal.fitness.rolling(60000, min_periods=1).max(), color='#8c510a', linewidth=2.5, linestyle=':', label='Worse', zorder=3)\n",
    "\n",
    "boxes, positions = [], []\n",
    "for i in range(100):\n",
    "    boxes.append(best_simanneal[(best_simanneal.index * simanneal_time_per_it > i*boxwidth) & (best_simanneal.index * simanneal_time_per_it < (i+1)*boxwidth)].fitness)\n",
    "    positions.append(boxwidth/2 + i*boxwidth)\n",
    "    if (i + 2) * boxwidth > (best_simanneal.index * simanneal_time_per_it)[-1]:\n",
    "        break\n",
    "vplot = plt.violinplot(boxes, positions=positions, widths=boxwidth)\n",
    "for pc in vplot['bodies']:\n",
    "    pc.set_color('tab:grey')\n",
    "    pc.set_facecolor('tab:grey')\n",
    "    pc.set_edgecolor('tab:grey')\n",
    "\n",
    "plt.xticks([i*boxwidth for i in range(int(longest_time / boxwidth)+1)], rotation=40)\n",
    "plt.grid(alpha=0.12, linestyle='--')\n",
    "plt.xlabel('Time spent (s)')\n",
    "plt.ylabel('Fitness')\n",
    "\n",
    "handles, labels = plt.gca().get_legend_handles_labels()\n",
    "by_label = dict(zip(labels, handles))\n",
    "plt.legend(by_label.values(), by_label.keys(), prop={'size': 12}, ncol=4)\n",
    "plt.savefig('img/results/005_simulatedannealing.pdf', format='pdf', bbox_inches='tight');"
   ]
  },
  {
   "source": [
    "### Genetic alg"
   ],
   "cell_type": "markdown",
   "metadata": {}
  },
  {
   "cell_type": "code",
   "execution_count": null,
   "metadata": {},
   "outputs": [],
   "source": [
    "boxwidth = 300\n",
    "\n",
    "longest_time = max([(run.index * genetic_time_per_it)[-1] for run in genetic])\n",
    "tries_results = []\n",
    "for run in genetic:\n",
    "    plt.plot(run.index * genetic_time_per_it, run.fitness.rolling(60000, min_periods=1).max(), color='tab:orange', alpha=0.3, zorder=2, label='Individual Runs')\n",
    "    tries_results.append(run.fitness.max())\n",
    "vplot = plt.violinplot([tries_results], positions=[longest_time], widths=boxwidth)\n",
    "for pc in vplot['bodies']:\n",
    "    pc.set_linewidth(1)\n",
    "    pc.set_facecolor('tab:orange')\n",
    "    pc.set_edgecolor('tab:orange')\n",
    "    pc.set_alpha(0.5)\n",
    "\n",
    "plt.plot(best_genetic.index * genetic_time_per_it, best_genetic.fitness.rolling(60000, min_periods=1).max(), color='#a50258', linewidth=2.5, linestyle='--', label='Best', zorder=3)\n",
    "plt.plot(avg_genetic.index * genetic_time_per_it, avg_genetic, color='#0272a2', linewidth=2.5, linestyle='-.', label='Average', zorder=3)\n",
    "plt.plot(worse_genetic.index * genetic_time_per_it, worse_genetic.fitness.rolling(60000, min_periods=1).max(), color='#8c510a', linewidth=2.5, linestyle=':', label='Worse', zorder=3)\n",
    "\n",
    "boxes, positions = [], []\n",
    "for i in range(100):\n",
    "    boxes.append(best_genetic[(best_genetic.index * genetic_time_per_it > i*boxwidth) & (best_genetic.index * genetic_time_per_it < (i+1)*boxwidth)].fitness)\n",
    "    positions.append(boxwidth/2 + i*boxwidth)\n",
    "    if (i + 2) * boxwidth > (best_genetic.index * genetic_time_per_it)[-1]:\n",
    "        break\n",
    "vplot = plt.violinplot(boxes, positions=positions, widths=boxwidth)\n",
    "for pc in vplot['bodies']:\n",
    "    pc.set_color('tab:grey')\n",
    "    pc.set_facecolor('tab:grey')\n",
    "    pc.set_edgecolor('tab:grey')\n",
    "\n",
    "plt.xticks([i*boxwidth for i in range(int(longest_time / boxwidth)+1)], rotation=40)\n",
    "plt.grid(alpha=0.12, linestyle='--')\n",
    "plt.xlabel('Time spent (s)')\n",
    "plt.ylabel('Fitness')\n",
    "\n",
    "handles, labels = plt.gca().get_legend_handles_labels()\n",
    "by_label = dict(zip(labels, handles))\n",
    "plt.legend(by_label.values(), by_label.keys(), prop={'size': 12}, ncol=4)\n",
    "plt.savefig('img/results/006_genetic.pdf', format='pdf', bbox_inches='tight');"
   ]
  },
  {
   "source": [
    "### General figs"
   ],
   "cell_type": "markdown",
   "metadata": {}
  },
  {
   "cell_type": "code",
   "execution_count": null,
   "metadata": {},
   "outputs": [],
   "source": [
    "plt.plot(avg_randsearch.index, avg_randsearch, color='tab:grey', linewidth=2, linestyle='--', label='Random Search', zorder=3)\n",
    "plt.plot(avg_cmaes.index, avg_cmaes, color='tab:blue', linewidth=2, marker='o', markevery=400, label='CMA-ES', zorder=3)\n",
    "plt.plot(avg_tpe.index, avg_tpe, color='tab:orange', linewidth=2, marker='P', markevery=400, label='TPE', zorder=3)\n",
    "plt.plot(avg_hillclimb.index, avg_hillclimb, color='tab:green', linewidth=2, marker='X', markevery=400, label='Hill Climb', zorder=3)\n",
    "plt.plot(avg_simanneal.index, avg_simanneal, color='tab:red', linewidth=2, marker='D', markevery=400, label='Simulated Annealing', zorder=3)\n",
    "plt.plot(avg_genetic.index, avg_genetic, color='tab:purple', linewidth=2, marker='H', markevery=400, label='Genetic Algorithm', zorder=3)\n",
    "\n",
    "plt.xlabel('No. solutions tested')\n",
    "plt.ylabel('Fitness')\n",
    "plt.ticklabel_format(axis='x', style='sci', scilimits=[0, 2])\n",
    "\n",
    "plt.legend(prop={'size': 12}, ncol=2)\n",
    "plt.savefig('img/results/010_all_algo_iterations.pdf', format='pdf', bbox_inches='tight');"
   ]
  },
  {
   "cell_type": "code",
   "execution_count": null,
   "metadata": {},
   "outputs": [],
   "source": [
    "plt.plot(avg_randsearch.index, avg_randsearch, color='tab:grey', linewidth=2, linestyle='--', label='Random Search', zorder=3)\n",
    "plt.plot(avg_cmaes.index, avg_cmaes, color='tab:blue', linewidth=2, marker='o', markevery=400, label='CMA-ES', zorder=3)\n",
    "plt.plot(avg_tpe.index, avg_tpe, color='tab:orange', linewidth=2, marker='P', markevery=400, label='TPE', zorder=3)\n",
    "plt.plot(avg_hillclimb.index, avg_hillclimb, color='tab:green', linewidth=2, marker='X', markevery=400, label='Hill Climb', zorder=3)\n",
    "plt.plot(avg_simanneal.index, avg_simanneal, color='tab:red', linewidth=2, marker='D', markevery=400, label='Simulated Annealing', zorder=3)\n",
    "plt.plot(avg_genetic.index, avg_genetic, color='tab:purple', linewidth=2, marker='H', markevery=400, label='Genetic Algorithm', zorder=3)\n",
    "\n",
    "plt.xlabel('No. solutions tested')\n",
    "plt.ylabel('Fitness')\n",
    "plt.xscale('log')\n",
    "\n",
    "plt.legend(prop={'size': 12}, ncol=2)\n",
    "plt.savefig('img/results/011_all_algo_iterations_log.pdf', format='pdf', bbox_inches='tight');"
   ]
  },
  {
   "cell_type": "code",
   "execution_count": null,
   "metadata": {},
   "outputs": [],
   "source": [
    "plt.plot(avg_randsearch.index * randsearch_time_per_it, avg_randsearch, color='tab:grey', linewidth=2, linestyle='--', label='Random Search', zorder=3)\n",
    "plt.plot(avg_cmaes.index * cmaes_time_per_it, avg_cmaes, color='tab:blue', linewidth=2, marker='o', markevery=400, label='CMA-ES', zorder=3)\n",
    "plt.plot(avg_tpe.index * tpe_time_per_it, avg_tpe, color='tab:orange', linewidth=2, marker='P', markevery=400, label='TPE', zorder=3)\n",
    "plt.plot(avg_hillclimb.index * hillclimb_time_per_it, avg_hillclimb, color='tab:green', linewidth=2, marker='X', markevery=400, label='Hill Climb', zorder=3)\n",
    "plt.plot(avg_simanneal.index * simanneal_time_per_it, avg_simanneal, color='tab:red', linewidth=2, marker='D', markevery=400, label='Simulated Annealing', zorder=3)\n",
    "plt.plot(avg_genetic.index * genetic_time_per_it, avg_genetic, color='tab:purple', linewidth=2, marker='H', markevery=400, label='Genetic Algorithm', zorder=3)\n",
    "\n",
    "plt.xlabel('Time spent (s)')\n",
    "plt.ylabel('Fitness')\n",
    "\n",
    "plt.legend(prop={'size': 12}, ncol=2)\n",
    "plt.savefig('img/results/012_all_algo_time.pdf', format='pdf', bbox_inches='tight');"
   ]
  },
  {
   "cell_type": "code",
   "execution_count": null,
   "metadata": {},
   "outputs": [],
   "source": [
    "plt.plot(avg_randsearch.index * randsearch_time_per_it, avg_randsearch, color='tab:grey', linewidth=2, linestyle='--', label='Random Search', zorder=3)\n",
    "plt.plot(avg_cmaes.index * cmaes_time_per_it, avg_cmaes, color='tab:blue', linewidth=2, marker='o', markevery=400, label='CMA-ES', zorder=3)\n",
    "plt.plot(avg_tpe.index * tpe_time_per_it, avg_tpe, color='tab:orange', linewidth=2, marker='P', markevery=400, label='TPE', zorder=3)\n",
    "plt.plot(avg_hillclimb.index * hillclimb_time_per_it, avg_hillclimb, color='tab:green', linewidth=2, marker='X', markevery=400, label='Hill Climb', zorder=3)\n",
    "plt.plot(avg_simanneal.index * simanneal_time_per_it, avg_simanneal, color='tab:red', linewidth=2, marker='D', markevery=400, label='Simulated Annealing', zorder=3)\n",
    "plt.plot(avg_genetic.index * genetic_time_per_it, avg_genetic, color='tab:purple', linewidth=2, marker='H', markevery=400, label='Genetic Algorithm', zorder=3)\n",
    "\n",
    "plt.xlabel('Time spent (s)')\n",
    "plt.ylabel('Fitness')\n",
    "plt.xscale('log')\n",
    "\n",
    "plt.legend(prop={'size': 12}, ncol=2)\n",
    "plt.savefig('img/results/013_all_algo_time_log.pdf', format='pdf', bbox_inches='tight');"
   ]
  }
 ]
}